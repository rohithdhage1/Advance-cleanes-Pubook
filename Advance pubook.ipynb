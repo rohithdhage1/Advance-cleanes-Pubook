{
 "cells": [
  {
   "cell_type": "code",
   "execution_count": 13,
   "id": "5ea2fd48-0033-4880-9ae3-68d12ffc0664",
   "metadata": {},
   "outputs": [
    {
     "name": "stdout",
     "output_type": "stream",
     "text": [
      "Data has sucessfully cleaned\n"
     ]
    }
   ],
   "source": [
    "import json\n",
    "def clean_data(data):\n",
    "    #Removes users with missing names\n",
    "    data[\"users\"] = [user for user in data[\"users\"] if user[\"name\"].strip()]\n",
    "    #Remove duplicate friends\n",
    "    for user in data[\"users\"]:\n",
    "        user['friends'] = list(set(user['friends']))\n",
    "    #Remove inactive users\n",
    "    data ['users'] = [user for user in data ['users'] if user['friends'] or user['liked_pages']]\n",
    "\n",
    "    #Remove Duplicate Pages\n",
    "    unique_pages = {}\n",
    "    for page in data['pages']:\n",
    "        unique_pages[page['id']] = page\n",
    "    data['pages'] = list(unique_pages.values())\n",
    "    return data\n",
    "\n",
    "#Load the data\n",
    "data = json.load(open(\"Dataa.json\"))\n",
    "data = clean_data(data)\n",
    "json.dump(data, open (\"cleaned_data2.json\",\"w\"), indent = 4)\n",
    "print(\"Data has sucessfully cleaned\")"
   ]
  },
  {
   "cell_type": "code",
   "execution_count": null,
   "id": "dae7f58f-fb25-4626-9d65-523e962b76e8",
   "metadata": {},
   "outputs": [],
   "source": []
  }
 ],
 "metadata": {
  "kernelspec": {
   "display_name": "Python [conda env:base] *",
   "language": "python",
   "name": "conda-base-py"
  },
  "language_info": {
   "codemirror_mode": {
    "name": "ipython",
    "version": 3
   },
   "file_extension": ".py",
   "mimetype": "text/x-python",
   "name": "python",
   "nbconvert_exporter": "python",
   "pygments_lexer": "ipython3",
   "version": "3.12.7"
  }
 },
 "nbformat": 4,
 "nbformat_minor": 5
}
